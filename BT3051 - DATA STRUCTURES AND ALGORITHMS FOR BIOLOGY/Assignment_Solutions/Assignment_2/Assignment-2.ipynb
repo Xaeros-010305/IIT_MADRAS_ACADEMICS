{
 "cells": [
  {
   "cell_type": "markdown",
   "id": "3c60acfb",
   "metadata": {},
   "source": [
    "<h2 style=\"text-align: center;\" markdown=\"1\">BT-3051 Data Structures and Algorithms for Biology</h2>\n",
    "<h3 style=\"text-align: center;\" markdown=\"1\">Assignment - 2.</h3>\n",
    "\n",
    "\n",
    "**Rules to write the code:**\n",
    "\n",
    "    1.Write Python code for the following questions using only Python.\n",
    "    2.Allowed: list, set, tuple, dictionary,control statements,loops.\n",
    "    3.Use the same function name and parameters given in each question.\n",
    "    4.Write explanations as comments in the python file.\n",
    "\n",
    "**Instructions:**\n",
    "\n",
    "    a. Each question carries 6 marks. Total marks for this assignment - 30   \n",
    "    b. Students are required to do just 5 of the 6 questions. You can pick any 5   "
   ]
  },
  {
   "cell_type": "markdown",
   "id": "f38da2fd",
   "metadata": {},
   "source": [
    "**Problem 1** \n",
    "\n",
    "Huntington’s disease is a neurodegenerative disorder caused by a mutation in the HTT gene on chromosome 4, where an increase in CAG repeats (more than 40, compared to the normal range of less than 35) leads to the production of a mutated Huntingtin protein.  \n",
    "This protein causes gradual damage to brain cells.  \n",
    "\n",
    "Mohesh, a Bioinformatician at Dholakpur Pvt. Ltd., has been given a FASTA file containing the gene sequences of a client who wants to be tested for early signs of Huntington’s disease. Knowing that abnormal CAG repeats can lead to abnormal GC content (the normal GC content for humans is between 30-60%), Mohesh decides to calculate the GC content of the HTT gene to determine if there is an abnormality.  \n",
    "\n",
    "Write a program to calculate the GC content of each gene in the FASTA file and use binary search to identify any outlier with abnormal GC content.  \n",
    "\n",
    "Note: a FASTA file is a text file for genome sequences representing nucleotides or amino acids.\n",
    "\n",
    "**FILE ACCESS**   \n",
    "\n",
    "Store the FASTA File in the same Directory as the assignment and name it \"Assignment - 2 FASTA.txt\"\n",
    "\n",
    "Relative path has been used to call the file, therefore if the folder is in a different directory replace the line \n",
    "\n",
    "-> Replace - \"Assignment - 2 FASTA.txt\" with the absolute path  \n",
    "\n",
    "-> Example : \"D:\\BT3051\\Assignment Questions\\Assignment - 2 FASTA.txt\" (The absolute path depends on where the file is stored)  \n",
    "\n",
    "---\n",
    "\n",
    "**GC Content**\n",
    "\n",
    "GC Content is defined to be the (content of G) + (cotent of C) in the Gene (in \\%)\n",
    "\n",
    "GC Content = $\\dfrac{\\text{Count of G, C nucleotides in the sequence}}{\\text{Total count of Nucleotides in the Sequnece}} \\cdot 100$ \\%\n",
    "\n",
    "---"
   ]
  },
  {
   "cell_type": "code",
   "execution_count": 3,
   "id": "6671298e",
   "metadata": {},
   "outputs": [
    {
     "name": "stdout",
     "output_type": "stream",
     "text": [
      "ATGCGTGCGTAGCTGCGATGCTGAGCTGCGTACGCGGATCGTAGCTGCGGATCGGATCGTAGCGTGGATCGGCGCTGCGTACGTGGATCGGTGCGATGCGTAGCGGCGTAGCGGCGTAGCTGCGGATCGTAGCTGCGTACGCGG \n",
      "With GC Content of: 65.27777777777779 %\n",
      "-----------------------------------------------------------------------------------------------------------------------------\n",
      "ATGGCGGAGTCCCGGTGCGGCCCTGCGCCTGCCCCCGGGTGCAGCCGGGGCAGCAGCAGCAGCAGCAGCAGCAGCAGCAGCAGCAGCAGCAGCAGCAGCAGCAGCAGCAGCAGCAGCAGCAGCAGCAGCAGCAAGAGAAGCCCGCCGGGCCCGCGTGGTGGGCGGCGCGCCGGCCTCGGCGTCGGGAGCGTCGGCCTCGGCGCCGCGCTGCGTGCAGTCCTGGGTCGGCGTGTGCGTGCTGTGGGCTGCGTGACGTCGTGGGCCGCGTGACGGCGTGCAGCGTCGCGACGTG \n",
      "With GC Content of: 75.68493150684932 %\n",
      "-----------------------------------------------------------------------------------------------------------------------------\n",
      "ATGCGGTAGCTGCGTTAGCGTGGCGTAGCTGCGTGCGGCTGCGTAGCGTCGTGGCGTAGCTGCGTCGCGTAGCGTGCGTGCAGTAGCGTAGCTGCGGCTGCGTAGCGTAGCTGCGGATCGTAGCGCGCTGCGTCGTGCGTAGCT \n",
      "With GC Content of: 66.66666666666666 %\n",
      "-----------------------------------------------------------------------------------------------------------------------------\n",
      "ATGCGGTAGCTGCGTAGCTGCGGCTGCGTAGCTGCGTCGCTGCGTAGCGTGGCGTAGCTGCGGCTGCGTAGCGTGCGTGCGTAGCTGCGGTAGCGTAGCTGCGTGCGTAGCGTAGCTGCGGTAGCTGCGTAGCTGCGGTAGCTG \n",
      "With GC Content of: 66.66666666666666 %\n",
      "-----------------------------------------------------------------------------------------------------------------------------\n",
      "ATGCGTAGCTAGCGTAGCTGCGATGCGTAGCTGCGTAGCTGCGATGCGTAGCTGCGTAGCGTAGCTGCGTATGCGTAGCTGCGTAGCTGCGTAGCTGCGTAGCTGCGTAGCGTAGCTGCGTAGCTGCGTAGCTGCGTAGCTGCG \n",
      "With GC Content of: 61.111111111111114 %\n",
      "-----------------------------------------------------------------------------------------------------------------------------\n"
     ]
    }
   ],
   "source": [
    "with open(r\"Assignment - 2 FASTA.txt\", \"r\") as f:\n",
    "    seq = \"\"\n",
    "    data = {}\n",
    "    count = 0\n",
    "\n",
    "    # Read all the lines of a file and store it in a list \"t\" add a newline at the end to ensure all the sequences are read\n",
    "    t = f.readlines()\n",
    "    t += [\"\\n\"]\n",
    "\n",
    "    for n in range(len(t)):\n",
    "        if t[n][0] == \">\":\n",
    "            start = n + 1\n",
    "\n",
    "            while t[start] != \"\\n\":\n",
    "                seq += t[start].rstrip(\"\\n\")\n",
    "                start += 1\n",
    "\n",
    "            for k in seq:\n",
    "                if k in \"GC\":\n",
    "                    count += 1\n",
    "            data[seq] = count / (len(seq)) * 100\n",
    "            count = 0\n",
    "            seq = \"\"\n",
    "\n",
    "    # data is a dictionary containing keys as the sequence and the corresponding GC content in % as the value\n",
    "\n",
    "for i in data.keys():\n",
    "    if data[i] >= 60:\n",
    "        print(i, \"\\nWith GC Content of:\", data[i], \"%\")\n",
    "        print(\"-\" * 125)"
   ]
  },
  {
   "cell_type": "markdown",
   "id": "55cc6f18",
   "metadata": {},
   "source": [
    "**Problem 2**\n",
    "\n",
    "**Nucleotide Sequence Matching**\n",
    "\n",
    "In a Genetic research lab, people are working with a large list of unique nucleotide sequences. Each sequence is basically a combination of ‘A’,’T’,’G’,’C’ characters.  \n",
    "They have come up with an interesting way to assign values to these nucleotides in the sequence. The nucleotide ‘A’ in the sequence possess the value (i)+2, whereas the nucleotide ‘T’ is valued ($2*i$)+3. The nucleotide ‘G’ in the sequence is equal to ($3*i$)+4 and the nucleotide ‘C’ is valued ($4*i$)+5.  \n",
    "Here, i is the 1 based index of the nucleotide in sequence. The sum of values of all the nucleotides of the given sequence is the spark value of that sequence.  \n",
    "  \n",
    "You are given the list of nucleotides and a value k. Write a program to find out if the sequence, whose spark value is equal to k, exists in the given list of sequences. Return the index of the sequence if exists else -1.\n",
    "\n",
    "Note: The solutions with time complexity of $O(n^2)$ will not be accepted and it is guaranteed that the list of sequences given are in increasing order of spark value."
   ]
  },
  {
   "cell_type": "code",
   "execution_count": 11,
   "id": "8d6868fd",
   "metadata": {},
   "outputs": [],
   "source": [
    "# A binary search algorithm that returns the index of the element if found, else returns -1 (if element is not present)\n",
    "\n",
    "def bin_search(l,num,ind=0):\n",
    "    if len(l)==0:\n",
    "        return(-1)\n",
    "    n=len(l)//2\n",
    "    ind+=n\n",
    "    \n",
    "    if l[n]==num:\n",
    "        return(ind)\n",
    "    \n",
    "    elif l[n]>num:\n",
    "        ind-=n\n",
    "        return(bin_search(l[:n],num,ind))\n",
    "        \n",
    "    else:\n",
    "        ind=ind+1\n",
    "        return(bin_search(l[n+1:],num,ind))"
   ]
  },
  {
   "cell_type": "code",
   "execution_count": 12,
   "id": "c3f4a65b",
   "metadata": {},
   "outputs": [],
   "source": [
    "def spark_check(input_data, k):\n",
    "\n",
    "    spark_list = []\n",
    "    for seq in input_data:\n",
    "\n",
    "        spark = 0\n",
    "\n",
    "        # Obtaining the spark value for each sequence in the list\n",
    "\n",
    "        for n in range(len(seq)):\n",
    "            if seq[n] == \"A\":\n",
    "                spark += n + 3\n",
    "            elif seq[n] == \"T\":\n",
    "                spark += 2 * n + 5\n",
    "            elif seq[n] == \"G\":\n",
    "                spark += 3 * n + 7\n",
    "            else:\n",
    "                spark += 4 * n + 9\n",
    "\n",
    "        spark_list += [spark]\n",
    "\n",
    "    return bin_search(spark_list, k)"
   ]
  },
  {
   "cell_type": "code",
   "execution_count": 13,
   "id": "df82994a",
   "metadata": {},
   "outputs": [
    {
     "name": "stdout",
     "output_type": "stream",
     "text": [
      "6\n",
      "AGGTAAAACCTTGCGTCAGTAGCCGAT\n",
      "====================================================================================================\n",
      "-1\n"
     ]
    }
   ],
   "source": [
    "# Testcase\n",
    "\n",
    "sequences = [\n",
    "    \"AAAACAAACGGAACTGGAGC\",\n",
    "    \"CGATACAAAACACGTCTACC\",\n",
    "    \"GCTCAGTCGTTCACAAGCATC\",\n",
    "    \"ATGCTGTAGCGCCTCTGATTC\",\n",
    "    \"ATCCTATGATTATTTCACGGGAG\",\n",
    "    \"CTTACTTTACAATTGTAGTGTAGTCTC\",\n",
    "    \"AGGTAAAACCTTGCGTCAGTAGCCGAT\",\n",
    "    \"AGTAGCCTCCTGCCACTGTAGATAATCGT\",\n",
    "    \"TGATCTTACGGTCGAGCTTCGCGTAGCTG\",\n",
    "    \"GTACCTACTATAGCACCTCACACCCACGT\",\n",
    "]\n",
    "\n",
    "print(spark_check(sequences, 1049))\n",
    "print(sequences[6])\n",
    "print(\"=\" * 100)\n",
    "print(spark_check(sequences, 1245))"
   ]
  },
  {
   "cell_type": "markdown",
   "id": "eb8fb5e3",
   "metadata": {},
   "source": [
    "**Problem 3** \n",
    "\n",
    "Lead compounds refer to potential drug compounds (mostly proteins) based on desired properties like the active site. The active site refers to a protein's enzymatic site of action to which other proteins might have affinity to bind to. This active site is exploited to create drugs that can bind to a drug target in the body inactivating the mechanism of disease. \n",
    "\n",
    "i) Create a program using Classes and Objects where you define a Class that acts like a template for protein whose parameters are the protein name and its amino acid (AA) sequence.  \n",
    "\n",
    "ii) Define a function within the class that will count the number of times an active site occurs in the AA sequence given input of a desired active site. The function should also record the location of occurrence of the active site on the AA sequence. \n",
    "\n",
    "iii) Comment on the efficiency of the data structure you have opted to use in the function.\n",
    "\n",
    "iv)You can use AA sequences of proteins from NCBI to test your code.  \n",
    "**https://www.ncbi.nlm.nih.gov/protein/**"
   ]
  },
  {
   "cell_type": "code",
   "execution_count": 15,
   "id": "86c881e6",
   "metadata": {},
   "outputs": [],
   "source": [
    "# Overlap of active sites is considered i.e (\"IIIII\" is the sequence there are 2 instances of the substring \"IIII\" in the given sequence)\n",
    "\n",
    "class protein:\n",
    "\n",
    "    def __init__(self, name, seq):\n",
    "        self.name = name\n",
    "        self.seq = (seq.upper()).rstrip()\n",
    "\n",
    "    # ASseq - Active Site Sequence\n",
    "    def active_site(self, ASseq):\n",
    "        ASseq = (ASseq.upper()).rstrip()\n",
    "        l = []\n",
    "        count = 0\n",
    "        tra = len(ASseq)\n",
    "\n",
    "        for i in range(len(self.seq)):\n",
    "            if self.seq[i] == ASseq[0]:\n",
    "                if self.seq[i : (i + tra)] == ASseq:\n",
    "                    count += 1\n",
    "                    l.append((i, i + tra - 1))\n",
    "\n",
    "        return (count, l)\n"
   ]
  },
  {
   "cell_type": "code",
   "execution_count": 16,
   "id": "7850a54d",
   "metadata": {},
   "outputs": [
    {
     "name": "stdout",
     "output_type": "stream",
     "text": [
      "(2, [(29, 31), (493, 495)])\n",
      "(6, [(0, 1), (311, 312), (444, 445), (458, 459), (472, 473), (576, 577)])\n",
      "(1, [(17, 19)])\n",
      "(2, [(611, 615), (612, 616)])\n",
      "(0, [])\n"
     ]
    }
   ],
   "source": [
    "#Test Cases\n",
    "t1=protein(\"Neurofascin\",\"GSIEIPMDLTQPPTITKQSVKDHIVDPRDNILIECEAKGNPAPSFHWTRNSRFFNIAKDPRVSMRRRSGTLVIDFRSGGRPEEYEGEYQCFARNKFGTALSNRIRLQVSKSPLWPKENLDPVVVQEGAPLTLQCNPPPGLPSPVIFWMSSSMEPITQDKRVSQGHNGDLYFSNVMLQDMQTDYSCNARFHFTHTIQQKNPFTLKVLTNNPYNDSSLRNHPDIYSARGVAERTPSFMYPQGTSSSQMVLRGMDLLLECIASGVPTPDIAWYKKGGDLPSNKAKFENFNKALRITNVSEEDSGEYFCLASNKMGSIRHTISVRVKAAPYWLDEPKNLILAPGEDGRLVCRANGNPKPTVQWMVNGEPLQSAPPNPNREVAGDTIIFRDTQISSRAVYQCNTSNEHGYLLANAFVSVLDVPPRMLSARNQLIRVILYNRTRLDCPFFGSPIPTLRWFKNGQGSNLDGGNYHVYENGSLEIKMIRKEDQGIYTCVATNILGKAENQVRLEVKDPTRIYRMPEDQVAKRGTTVQLECRVKHDPSLKLTVSWLKDDEPLYIGNRMKKEDDSLTIFGVAERDQGSYTCMASTELDQDLAKAYLTVLADQATPTNRLAAHHHHHH\")\n",
    "\n",
    "print(t1.active_site(\"NIL\"))\n",
    "print(t1.active_site(\"GS\"))\n",
    "print(t1.active_site(\"QSV\"))\n",
    "print(t1.active_site(\"HHHHH\"))\n",
    "\n",
    "t2=protein(\"Worst Case\",\"SSSSSSSSSSSSSSSSSSSSSSSSSSSSSSSSSS\")\n",
    "print(t2.active_site(\"MMMMMMMMM\"))"
   ]
  },
  {
   "cell_type": "markdown",
   "id": "6da83c10",
   "metadata": {},
   "source": [
    "iii) **Effciency Analysis**  \n",
    "\n",
    "A list, containing tuples of the form (\\<start_position\\>,\\<end_position\\>) are used to store the data.  \n",
    "The function Returns a tuple of the (count, position_list) as the question required.\n",
    "\n",
    "Let \"n\" denote the length of the AA sequence and let \"m\" denote the length of the Active Site sequence.  \n",
    "\n",
    "In the worst case where all Amino Acids are the same and the active site is not present in the sequence, the algorithm above will take:   \n",
    "Operations $\\propto$ $n*m$, but since m is a constant for a given active site sequence the algorithm overall is $O(n)$\n",
    "\n",
    "The list data structure here allows for the easy access of the locations of the active site (if one knows which site is to be used i.e: it's index, it can be called in $O(1)$ time)."
   ]
  },
  {
   "cell_type": "markdown",
   "id": "2ffc0699",
   "metadata": {},
   "source": [
    "**Problem 5** \n",
    "\n",
    "**Analyze Codon Usage**\n",
    "\n",
    "A codon is a sequence of three DNA bases that corresponds to a specific amino acid or stop signal during protein synthesis.  \n",
    "Write a function to count the frequency of each codon in a given DNA sequence.   \n",
    "This helps in understanding the gene's potential to code for proteins.  \n",
    "\n",
    "def codon_usage(dna_sequence):  \n",
    "\"\"\"  \n",
    "Calculates the frequency of each codon (set of three bases) in a DNA sequence.  \n",
    ":param dna_sequence: str, the DNA sequence to analyze  \n",
    ":return: dict, a dictionary with codons as keys and their frequencies as values  \n",
    "\"\"\"  \n",
    "pass  \n",
    "\n",
    "Example call:  \n",
    "codon_usage(\"ATGGCAATCAAGTCATTGGA\")  \n",
    "\n",
    "Example output:  \n",
    "{'ATG': 1, 'GCA': 1, 'ATC': 1, 'AAG': 1, 'TCA': 1, 'TTG': 1}  "
   ]
  },
  {
   "cell_type": "code",
   "execution_count": 17,
   "id": "2cfe1783",
   "metadata": {},
   "outputs": [],
   "source": [
    "#If the len(dna_sequence) is not a multiple of 3 then it is assumed the sequence is looped back from the start till the last codon is complete.\n",
    "#Example : in the sequence \"ATGGCAATCAAGTCATTGGA\" only \"ATGGCAATCAAGTCATTG\" is considered as the last 2 nucleotides cannot represent a codon themselves.\n",
    "\n",
    "\n",
    "def codon_usage(dna_sequence):\n",
    "    excess=(len(dna_sequence)%3)\n",
    "    if excess!=3:\n",
    "        dna_sequence=dna_sequence[:len(dna_sequence)-excess]\n",
    "    codon_data={}\n",
    "    for i in range(0,len(dna_sequence),3):\n",
    "        codon=dna_sequence[i:i+3]\n",
    "        \n",
    "        if codon in codon_data.keys():\n",
    "            codon_data[codon]+=1\n",
    "        else:\n",
    "            codon_data[codon]=1\n",
    "    \n",
    "    return(codon_data)"
   ]
  },
  {
   "cell_type": "code",
   "execution_count": 18,
   "id": "c387d671",
   "metadata": {},
   "outputs": [
    {
     "name": "stdout",
     "output_type": "stream",
     "text": [
      "{'ATG': 1, 'GCA': 1, 'ATC': 1, 'AAG': 1, 'TCA': 1, 'TTG': 1}\n",
      "{'TAG': 1, 'GTT': 1, 'AGA': 2, 'TGT': 1, 'GTA': 1, 'AAG': 1, 'GAA': 1, 'CCA': 2, 'CCC': 1, 'ATG': 1, 'TCA': 1}\n"
     ]
    }
   ],
   "source": [
    "#Test Case\n",
    "print(codon_usage(\"ATGGCAATCAAGTCATTGGA\"))\n",
    "\n",
    "print(codon_usage(\"TAGGTTAGATGTGTAAGAAAGGAACCACCCATGCCATCAAG\")) \n",
    "#The last to nucleotides (AG) are excluded from consideration in the above example as they cannot be part of a codon."
   ]
  },
  {
   "cell_type": "markdown",
   "id": "6ce19da3",
   "metadata": {},
   "source": [
    "**Problem 6** \n",
    "\n",
    "**Find Longest Homopolymer**\n",
    "\n",
    "A homopolymer is a sequence of identical bases in DNA (e.g., \"AAAA\" or \"CCCC\"). Write a function to find the longest homopolymer in a given DNA sequence.  \n",
    "The function should return the base of the homopolymer and its length.  \n",
    "\n",
    "def longest_homopolymer(dna_sequence):  \n",
    "\"\"\"  \n",
    "Finds the longest homopolymer in a DNA sequence.  \n",
    ":param dna_sequence: str, the DNA sequence to analyze  \n",
    ":return: tuple, (base of the homopolymer, length of the homopolymer)  \n",
    "\"\"\"  \n",
    "pass  \n",
    "\n",
    "Example call:  \n",
    "longest_homopolymer(\"ATGGCAAAATCAAGGGGGG\")  \n",
    "\n",
    "Example output:  \n",
    "('G', 6) {Longest homopolymer is \"GGGGGG\"}  "
   ]
  },
  {
   "cell_type": "code",
   "execution_count": 22,
   "id": "4829bcb1",
   "metadata": {},
   "outputs": [],
   "source": [
    "#if 2 homopolymers of Same Length are present, a list - [(base of the homopolymer 1, length of the homopolymer),(base of the homopolymer 2, length of the homopolymer),...........] is returned\n",
    "\n",
    "\n",
    "def longest_homopolymer(dna_sequence):\n",
    "    Control=True\n",
    "    l=[]\n",
    "    longest=1\n",
    "    i=0\n",
    "    while i<len(dna_sequence):\n",
    "        repeat=0\n",
    "        while dna_sequence[i+repeat]==dna_sequence[i] and Control:\n",
    "            \n",
    "            if i+repeat+1==len(dna_sequence):\n",
    "                Control=False\n",
    "            else:\n",
    "                repeat+=1\n",
    "        \n",
    "        if Control==False:\n",
    "            repeat+=1\n",
    "            \n",
    "        if repeat==longest:\n",
    "            l.append((dna_sequence[i],longest))\n",
    "        elif repeat > longest:\n",
    "            longest=repeat\n",
    "            l=[(dna_sequence[i],longest)]\n",
    "\n",
    "        i+=repeat\n",
    "            \n",
    "    if len(l)==1:\n",
    "        return(l[0])\n",
    "    else:\n",
    "        return(l)"
   ]
  },
  {
   "cell_type": "code",
   "execution_count": 23,
   "id": "fe1f2dfe",
   "metadata": {},
   "outputs": [
    {
     "name": "stdout",
     "output_type": "stream",
     "text": [
      "('G', 6)\n",
      "--------------------------------------------------\n",
      "[('A', 19), ('T', 19)]\n",
      "--------------------------------------------------\n",
      "('A', 93)\n",
      "--------------------------------------------------\n",
      "[('A', 1), ('T', 1), ('G', 1), ('C', 1)]\n"
     ]
    }
   ],
   "source": [
    "print(longest_homopolymer(\"ATGGCAAAATCAAGGGGGG\"))\n",
    "print(\"-\"*50)\n",
    "print(longest_homopolymer(\"AAAAAAAAAAAAAAAAAAAGGCCCCCCCTTTTTTTTTTTTTTTTTTTAAAAAACCCCCCCCCCCCCCCAAAAAAAGGGGGTTTTTTTTTTT\"))\n",
    "print(\"-\"*50)\n",
    "print(longest_homopolymer(\"AATAGGCGATGCTGGGGGGGGAAAAAAGTTTTTTAAAAAAAAAAAAAAAAAAAAAAAAAAAAAAAAAAAAAAAAAAAAAAAAAAAAAAAAAAAAAAAAAAAAAAAAAAAAAAAAAAAAAAAAAAAAACCCCCCCCCCCCCCATCGTCGTAGT\"))\n",
    "print(\"-\"*50)\n",
    "print(longest_homopolymer(\"ATGC\"))"
   ]
  }
 ],
 "metadata": {
  "kernelspec": {
   "display_name": "Python 3 (ipykernel)",
   "language": "python",
   "name": "python3"
  },
  "language_info": {
   "codemirror_mode": {
    "name": "ipython",
    "version": 3
   },
   "file_extension": ".py",
   "mimetype": "text/x-python",
   "name": "python",
   "nbconvert_exporter": "python",
   "pygments_lexer": "ipython3",
   "version": "3.9.13"
  }
 },
 "nbformat": 4,
 "nbformat_minor": 5
}

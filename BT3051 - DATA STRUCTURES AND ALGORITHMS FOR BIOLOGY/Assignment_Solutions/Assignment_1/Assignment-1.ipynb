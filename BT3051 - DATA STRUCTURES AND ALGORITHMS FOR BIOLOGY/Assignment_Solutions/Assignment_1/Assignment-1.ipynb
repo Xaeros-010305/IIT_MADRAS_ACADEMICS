{
 "cells": [
  {
   "cell_type": "markdown",
   "id": "0177c3da",
   "metadata": {},
   "source": [
    "<h2 style=\"text-align: center;\" markdown=\"1\">BT-3051 Data Structures and Algorithms for Biology</h2>\n",
    "<h3 style=\"text-align: center;\" markdown=\"1\">Assignment - 1.</h3>\n",
    "\n",
    "\n",
    "**Rules to write the code:**\n",
    "\n",
    "1.   *Write Python code for the following questions using only basic Python data structures, loops, and conditional statements. You are not allowed to use any inbuilt function for searching, sorting, or replacing*\n",
    "2.   **Allowed:** *list, set, tuple, dictionary, variables(int, float), control statements(if-else, switch-case), loops(for, while)*\n",
    "3. *Use the same function name and parameters given in each question*\n",
    "4. *Write explanations as comments in the python file*"
   ]
  },
  {
   "cell_type": "markdown",
   "id": "c12f2c14",
   "metadata": {},
   "source": [
    "### **Question 1**\n",
    "\n",
    "Write a Python function that multiplies two numbers (a>b) but you are allowed to use only the addition and subtraction operator.\n",
    "\n",
    "```\n",
    "def mult(a,b):\n",
    "  # Write your code here...\n",
    "  return product\n",
    "\n",
    "# Testcase\n",
    "print(mult(5,3))\n",
    "------------------------\n",
    ">15\n",
    "```"
   ]
  },
  {
   "cell_type": "code",
   "execution_count": 23,
   "id": "c360df9f",
   "metadata": {},
   "outputs": [],
   "source": [
    "def breakdown(n):\n",
    "    l = []\n",
    "    s = str(n)\n",
    "    for i in range(len(s)):\n",
    "        l.append(s[-i - 1])\n",
    "    return l\n",
    "\n",
    "\n",
    "# The breakdown function returns a list as it's output, where the index of the digit in the list indicates it's order.\n",
    "# For negative integers the \"-\" character is stored in the -1 position / Last position.\n",
    "# ===========================================================================================================================\n",
    "def base_mult(a, b):\n",
    "\n",
    "    if a < b:\n",
    "        a, b = b, a\n",
    "    product = 0\n",
    "\n",
    "    for i in range(b):\n",
    "        product += a\n",
    "    return product\n",
    "\n",
    "\n",
    "# The base_mult function is used to multiply single digit numbers by means of a for loop.\n",
    "# It works by repeatedly adding the smaller number a larger number of times to a total variable (product here).\n",
    "# ===========================================================================================================================\n",
    "def ten_mult(num, pow):\n",
    "    tennum = str(num)\n",
    "    ext = \"0\" * pow\n",
    "    tennum = tennum + ext\n",
    "    num = int(tennum)\n",
    "    return num\n",
    "\n",
    "\n",
    "# It takes in 2 arguments, the 1st indicating the number to be scaled, the 2nd argument indicating the order of scaling.\n",
    "# The function for any input of num, pow returns (num*10^{pow}) as an integer.\n",
    "# ===========================================================================================================================\n",
    "def mult(a, b):\n",
    "    ncounter = 0\n",
    "\n",
    "    l1 = breakdown(a)\n",
    "    l2 = breakdown(b)\n",
    "\n",
    "    if a < 0:\n",
    "        l1.pop(-1)\n",
    "        ncounter += 1\n",
    "\n",
    "    if b < 0:\n",
    "        l2.pop(-1)\n",
    "        ncounter += 1\n",
    "\n",
    "    total = []\n",
    "\n",
    "    for i in range(len(l1)):\n",
    "        for j in range(len(l2)):\n",
    "            pdt = base_mult(int(l1[i]), int(l2[j]))\n",
    "            pdt = ten_mult(pdt, (i + j))\n",
    "            total += [pdt]\n",
    "\n",
    "    product = 0\n",
    "\n",
    "    for k in total:\n",
    "        product += k\n",
    "\n",
    "    if ncounter == 1:\n",
    "        product = -product\n",
    "\n",
    "    return product"
   ]
  },
  {
   "cell_type": "code",
   "execution_count": 24,
   "id": "acf2e1ae",
   "metadata": {},
   "outputs": [
    {
     "name": "stdout",
     "output_type": "stream",
     "text": [
      "5 * 3 = 15\n",
      "=============================================================================================================================\n"
     ]
    }
   ],
   "source": [
    "print(\"5 * 3 =\",mult(5,3))\n",
    "print(\"=\"*125)"
   ]
  },
  {
   "cell_type": "code",
   "execution_count": 25,
   "id": "09b5d6e2",
   "metadata": {},
   "outputs": [
    {
     "name": "stdout",
     "output_type": "stream",
     "text": [
      "Verification with the inbuilt mutiplication function\n",
      "\n",
      "22081515686943075\n",
      "22081515686943075\n",
      "=============================================================================================================================\n",
      "-7052844562856214\n",
      "-7052844562856214\n",
      "=============================================================================================================================\n"
     ]
    }
   ],
   "source": [
    "print(\"Verification with the inbuilt mutiplication function\\n\")\n",
    "print(mult(102489627,215451225))\n",
    "print(102489627*215451225)\n",
    "print(\"=\"*125)\n",
    "print(mult(-15452121,456432134))\n",
    "print(-15452121*456432134)\n",
    "print(\"=\"*125)"
   ]
  },
  {
   "cell_type": "markdown",
   "id": "c400add3",
   "metadata": {},
   "source": [
    "### Time Complexity Analysis - O(nm)\n",
    "\n",
    "Let us take the number of digits in the $1^{st}$ number as n, and the number of digits in the $2^{nd}$ number as m.\n",
    "\n",
    "The algorithm performs multiplication by breaking numbers into individual digits and computing partial products. The key steps contributing to time complexity are:\n",
    "\n",
    "1. **Digit Breakdown:** Extracting digits from both numbers takes **O(n) + O(m)**.\n",
    "2. **Single-Digit Multiplication:** For each pair of digits from the two numbers (total **n × m** pairs), a basic repeated addition-based multiplication is performed, taking **O(1)** per operation.\n",
    "3. **Scaling and Summation:** Each multiplication is scaled based on position (O(1)) and summed together in **O(nm)** time.\n",
    "\n",
    "Since the core multiplication step iterates over **n × m** pairs, the overall time complexity is **O(nm)**."
   ]
  },
  {
   "cell_type": "markdown",
   "id": "9262f0ef",
   "metadata": {},
   "source": [
    "### **Question 2**\n",
    "\n",
    "Many identification numbers have a certain structure to them. For example, the IIT Madras roll numbers are of the form:\n",
    "\n",
    "“Alphabet-Alphabet-Num-Num-Alphabet-Num-Num-Num”.\n",
    "\n",
    "Now write a python program that takes in a string as input and reports if the string is in concurrence with the structure.\n",
    "\n",
    "Do this for:\n",
    "1.   The IITM ID (Structure above)\n",
    "2.   The PAN ID (Structure: AAAAANNNNA, where A is alphabet and N is a number)\n",
    "\n",
    "```\n",
    "def iitmid(id):\n",
    "  # Write your code here...\n",
    "  return True/False (as a bool, and not string)\n",
    "\n",
    "def panid(pan):\n",
    "  # Write your code here...\n",
    "  return True/False (as a bool, and not string)\n",
    "\n",
    "# Testcase\n",
    "print(iitmid('BT20D700'))\n",
    "print(panid('BT20D700'))\n",
    "-------------------------------\n",
    ">True\n",
    ">False\n",
    "```\n",
    "\n",
    "**Note:**\n",
    "\n",
    "Not allowed *regex*"
   ]
  },
  {
   "cell_type": "code",
   "execution_count": 26,
   "id": "0d9e67c0",
   "metadata": {},
   "outputs": [],
   "source": [
    "# Given the question makes no mention of case sensitivity, it is assumed both upper and lower case letters are allowed.\n",
    "\n",
    "\n",
    "# Structure IIT-M ID : AA-NN-A-NNN\n",
    "def iitmid(id):\n",
    "    if len(id) != 8:\n",
    "        return False\n",
    "\n",
    "    # Used to build the list of ascii values of alphabets (upper and lower case) and digits (0 through 9).\n",
    "    letter_list = list(range(97, 123)) + list(range(65, 91))\n",
    "    num_list = list(range(48, 58))\n",
    "\n",
    "    # Slices the part of the text that is meant to be alphabetical into a string and the section meant to be numerical into a seperate string.\n",
    "    alp = id[:2] + id[4]\n",
    "    num = id[2:4] + id[5:]\n",
    "\n",
    "    # Checking if all the characters in the alphabetical section are alphabets.\n",
    "    for l in alp:\n",
    "        if ord(l) not in letter_list:\n",
    "            return False\n",
    "\n",
    "    # Checking if all the characters in the numerical section are digits.\n",
    "    for n in num:\n",
    "        if ord(n) not in num_list:\n",
    "            return False\n",
    "\n",
    "    # If both the checking conditions are satisfied the function returns True\n",
    "    return True\n",
    "\n",
    "\n",
    "# Structure PAN ID : AAAAA-NNNN-A\n",
    "def panid(pan):\n",
    "    if len(pan) != 10:\n",
    "        return False\n",
    "\n",
    "    # Used to build the list of ascii values of alphabets (upper and lower case) and digits (0 through 9).\n",
    "    letter_list = list(range(97, 123)) + list(range(65, 91))\n",
    "    num_list = list(range(48, 58))\n",
    "\n",
    "    # Slices the part of the text that is meant to be alphabetical into a string and the section meant to be numerical into a seperate string.\n",
    "    alp = pan[:5] + pan[9]\n",
    "    num = pan[5:9]\n",
    "\n",
    "    # Checking if all the characters in the alphabetical section are alphabets.\n",
    "    for l in alp:\n",
    "        if ord(l) not in letter_list:\n",
    "            return False\n",
    "\n",
    "    # Checking if all the characters in the numerical section are digits.\n",
    "    for n in num:\n",
    "        if ord(n) not in num_list:\n",
    "            return False\n",
    "\n",
    "    # If both the checking conditions are satisfied the function returns True\n",
    "    return True"
   ]
  },
  {
   "cell_type": "code",
   "execution_count": 27,
   "id": "a41ba9a7",
   "metadata": {},
   "outputs": [
    {
     "name": "stdout",
     "output_type": "stream",
     "text": [
      "True\n",
      "False\n"
     ]
    }
   ],
   "source": [
    "# Testcase\n",
    "print(iitmid('BT20D700'))\n",
    "print(panid('BT20D700'))"
   ]
  },
  {
   "cell_type": "markdown",
   "id": "48124a8e",
   "metadata": {},
   "source": [
    "### **Question 3**\n",
    "\n",
    "Write a Python function that takes in a number and returns the number of digits (without converting it to a string).\n",
    "\n",
    "```\n",
    "def n_digits(num):\n",
    "  # Write your code here...\n",
    "  return digits\n",
    "\n",
    "#Testcase\n",
    "print(n_digits(1756))\n",
    "print(n_digits(4))\n",
    "\n",
    "---------------------\n",
    ">4\n",
    ">1\n",
    "```"
   ]
  },
  {
   "cell_type": "code",
   "execution_count": 15,
   "id": "d335ae2e",
   "metadata": {},
   "outputs": [],
   "source": [
    "def n_digits(num):\n",
    "    if num<0:\n",
    "        check=-num\n",
    "    else:\n",
    "        check=num\n",
    "    digits=0    \n",
    "    \n",
    "    #Repeated division of the check variable until it goes to 0\n",
    "    while check>0:\n",
    "        check=check//10\n",
    "        digits+=1\n",
    "    \n",
    "    return(digits)"
   ]
  },
  {
   "cell_type": "code",
   "execution_count": 16,
   "id": "3a08cf6b",
   "metadata": {},
   "outputs": [
    {
     "name": "stdout",
     "output_type": "stream",
     "text": [
      "4\n",
      "1\n"
     ]
    }
   ],
   "source": [
    "#Testcase\n",
    "print(n_digits(1756))\n",
    "print(n_digits(4))"
   ]
  },
  {
   "cell_type": "markdown",
   "id": "f02048af",
   "metadata": {},
   "source": [
    "### **Question 4**\n",
    "\n",
    "Write a Python function that takes two inputs L and R (0<L<=R<=1000) and returns the number of integers between L and R (inclusive) that satisfy this property:\n",
    "\n",
    "*The difference between the number and its reverse is a perfect square.*\n",
    "\n",
    "Ex: 3, 15, 40 and 56 are four such numbers satisfying the property.\n",
    "\n",
    "```\n",
    "def countsq(L, R):\n",
    "  # Write your code here\n",
    "  return intcount\n",
    "\n",
    "# Testcase\n",
    "print(countsq(1,12))\n",
    "--------------------------\n",
    ">12\n",
    "```"
   ]
  },
  {
   "cell_type": "code",
   "execution_count": 18,
   "id": "c17600fd",
   "metadata": {},
   "outputs": [],
   "source": [
    "def countsq(L,R):\n",
    "    \n",
    "    count=0\n",
    "    \n",
    "    #Creates a checklist with all square numbers from 0 to 961 (The maximum difference is 999, and the next square number is 1024).\n",
    "    checklist=[]\n",
    "    for i in range(32):\n",
    "        checklist+=[i*i]\n",
    "    \n",
    "    #Iterating through the range of allowed numbers\n",
    "    for n in range(L,(R+1)):\n",
    "        rev=int((str(n)[-1::-1]))\n",
    "        \n",
    "        #Finding the difference between a number and it's reverse and ensuring only the magnitude is considered.\n",
    "        dif=n-rev\n",
    "        if dif<0:\n",
    "            dif=-dif\n",
    "        \n",
    "        #Checking if the difference is a square number.\n",
    "        if dif in checklist:\n",
    "            count+=1\n",
    "            \n",
    "    return(count)"
   ]
  },
  {
   "cell_type": "code",
   "execution_count": 19,
   "id": "80a4e0ec",
   "metadata": {},
   "outputs": [
    {
     "name": "stdout",
     "output_type": "stream",
     "text": [
      "12\n"
     ]
    }
   ],
   "source": [
    "# Testcase\n",
    "print(countsq(1,12))"
   ]
  },
  {
   "cell_type": "markdown",
   "id": "5c8a331b",
   "metadata": {},
   "source": [
    "### **Question 5**\n",
    "\n",
    "ACP Pradyuman, a brilliant detective (pun-intended), is known for solving code puzzles. A programmer named Kamesh, seeks help with a decryption challenge inspired by the \"CID\" TV series. ACP Pradyuman creates a code question based on Kamesh's request.\n",
    "\n",
    "Write a Python function `decrypt_message(message)` that reverses the characters within each word of a given string while preserving word order\n",
    "\n",
    "**Note:**\n",
    "\n",
    "All whitespaces in the input string are to be conserved and returned in the output string\n",
    "\n",
    "Not allowed any inbuilt-function like *string.split* or *string.reverse*\n",
    "\n",
    "```\n",
    "def decrypt_message(message):\n",
    "  # Write your code here...\n",
    "  return decoded_message\n",
    "\n",
    "# Testcase\n",
    "message = 'Hello world'\n",
    "decoded_message = decrypt_message(message)\n",
    "print(decoded_message)\n",
    "------------------------\n",
    "> 'olleH dlrow'\n",
    "```\n",
    "\n",
    "**Application:**\n",
    "\n",
    "Reversing characters within words finds application in cryptography by adding complexity to encoding methods. This technique can be used to create unique transformations within encoded messages, enhancing the security of ciphers and making decryption more challenging without the proper key."
   ]
  },
  {
   "cell_type": "code",
   "execution_count": 21,
   "id": "8f33faee",
   "metadata": {},
   "outputs": [],
   "source": [
    "def decrypt_message(message):\n",
    "    \n",
    "    #String modification is done to ensure consistent point of slicing the text.\n",
    "    temp=message+\" \"\n",
    "    \n",
    "    decrypted=\"\"\n",
    "    word_list=[]\n",
    "    \n",
    "    #The start variable will be considered as the starting index of the subsequent word.\n",
    "    start=0\n",
    "    \n",
    "    #Iterating through the string to break it down into it's constituent words and spaces.\n",
    "    for i in range (len(temp)):\n",
    "        if temp[i]==\" \":\n",
    "            word_list+=[temp[start:i]]+[\" \"]\n",
    "            start=i+1\n",
    "            \n",
    "    #Reversing each induvidual word and concatenating them together to form the required string (The space in the last index of the list is dropped from the final string).\n",
    "    for k in range (len(word_list)-1):\n",
    "        decrypted+=word_list[k][-1::-1]\n",
    "\n",
    "    return(decrypted) "
   ]
  },
  {
   "cell_type": "code",
   "execution_count": 22,
   "id": "b9e8a5be",
   "metadata": {},
   "outputs": [
    {
     "name": "stdout",
     "output_type": "stream",
     "text": [
      "erehT era 5     secaps !ereh\n",
      ",yeh iriS\n"
     ]
    }
   ],
   "source": [
    "print(decrypt_message(\"There are 5     spaces here!\"))\n",
    "print(decrypt_message(\"hey, Siri\"))"
   ]
  }
 ],
 "metadata": {
  "kernelspec": {
   "display_name": "Python 3 (ipykernel)",
   "language": "python",
   "name": "python3"
  },
  "language_info": {
   "codemirror_mode": {
    "name": "ipython",
    "version": 3
   },
   "file_extension": ".py",
   "mimetype": "text/x-python",
   "name": "python",
   "nbconvert_exporter": "python",
   "pygments_lexer": "ipython3",
   "version": "3.9.13"
  }
 },
 "nbformat": 4,
 "nbformat_minor": 5
}

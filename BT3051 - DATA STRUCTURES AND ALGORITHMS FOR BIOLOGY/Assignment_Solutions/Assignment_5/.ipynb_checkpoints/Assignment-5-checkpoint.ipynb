{
 "cells": [
  {
   "cell_type": "markdown",
   "id": "0110cb3a",
   "metadata": {},
   "source": [
    "<h2 style=\"text-align: center;\" markdown=\"1\">BT-3051 Data Structures and Algorithms for Biology</h2>\n",
    "<h3 style=\"text-align: center;\" markdown=\"1\">Assignment - 5</h3>"
   ]
  },
  {
   "cell_type": "markdown",
   "id": "b6753301",
   "metadata": {},
   "source": [
    "**<u>Question 1</u>  \n",
    "Football Field Navigation**\n",
    "\n",
    "You are a football field manager, and you need to guide a robot across a training field represented by an (mxn) grid. The robot starts at the top-left corner of the field (i.e., grid[0][0]) and needs to reach the bottom-right corner (i.e., grid[m-1][n-1]) where the final training goal is located.\n",
    "\n",
    "The field has damp spots(obstacles) and open spaces. Obstacles are marked as 1, and open spaces are marked as 0 in the grid. The robot can only move either down or right at any point in time, but it cannot move through obstacles.\n",
    "\n",
    "Your task is to determine the total number of unique paths that the robot can take to reach the bottom-right corner, avoiding all obstacles.\n"
   ]
  },
  {
   "cell_type": "code",
   "execution_count": 1,
   "id": "d53122d6",
   "metadata": {},
   "outputs": [],
   "source": [
    "def print_rectangular(lst):\n",
    "    for row in lst:\n",
    "        print(\" \".join(f\"{str(item):>6}\" for item in row))"
   ]
  },
  {
   "cell_type": "code",
   "execution_count": 2,
   "id": "04292c62",
   "metadata": {},
   "outputs": [
    {
     "name": "stdout",
     "output_type": "stream",
     "text": [
      "     0      0      0      0      0      1      0      0      0      0      0      0      0      0      1\n",
      "     0      1      0      1      0      0      0      0      0      0      0      1      0      0      0\n",
      "     0      0      0      0      0      0      0      0      0      0      0      0      0      0      0\n",
      "     1      0      0      1      0      0      1      0      0      0      0      1      0      0      0\n",
      "     0      0      0      0      0      0      0      1      0      1      0      1      0      0      0\n",
      "     0      0      1      0      1      0      0      1      0      1      0      1      0      0      0\n",
      "     1      0      0      0      0      0      0      0      0      0      1      0      1      0      0\n",
      "     1      0      0      0      1      0      0      0      0      0      1      0      0      0      0\n",
      "     0      0      0      0      0      0      0      0      0      1      0      0      0      0      0\n",
      "     0      0      0      1      1      0      1      0      0      0      0      0      0      0      0\n"
     ]
    }
   ],
   "source": [
    "#Generating Example cases ofthe field/grid\n",
    "import numpy as np\n",
    "import random\n",
    "import pprint\n",
    "\n",
    "#If a fixed field is required modify the parameters r and c as per need\n",
    "r=random.randint(10,13)\n",
    "c=random.randint(15,18)\n",
    "\n",
    "field=[]\n",
    "temp=[0]*(c)\n",
    "for n in range(r):\n",
    "    field.append(temp[:])\n",
    "\n",
    "for row in range(r):\n",
    "    for column in range(c):\n",
    "        \n",
    "        estimate=random.randint(1,100)\n",
    "        \n",
    "        if estimate > 80 :\n",
    "            field[row][column]=1\n",
    "\n",
    "field[r-1][c-1]=0\n",
    "field[0][0]=0\n",
    " \n",
    "print_rectangular(field)"
   ]
  },
  {
   "cell_type": "code",
   "execution_count": 3,
   "id": "7cce382a",
   "metadata": {},
   "outputs": [
    {
     "name": "stdout",
     "output_type": "stream",
     "text": [
      "   823    509    509    327    327      0    443    308    201    122     70     44     44      9      0      0\n",
      "   314      0    182      0    327    197    135    107     79     52     26      0     35      9      1      0\n",
      "   314    314    182    130    130     62     28     28     27     26     26     26     26      8      1      0\n",
      "     0    132     52      0     68     34      0      1      1      0      0      0     18      7      1      0\n",
      "   108     80     52     52     34     34      9      0      1      0      0      0     11      6      1      0\n",
      "    28     28      0     18      0     25      9      0      1      0      0      0      5      5      1      0\n",
      "     0     28     22     18     16     16      9      4      1      0      0     10      0      4      1      0\n",
      "     0      6      4      2      0      7      5      3      1      0      0     10      6      3      1      0\n",
      "     2      2      2      2      2      2      2      2      1      0      5      4      3      2      1      0\n",
      "     0      0      0      0      0      0      0      1      1      1      1      1      1      1      1      0\n",
      "     0      0      0      0      0      0      0      0      0      0      0      0      0      0      0      0\n",
      "========================================================================================================================\n",
      "823\n"
     ]
    }
   ],
   "source": [
    "def all_fields(field):\n",
    "    r=len(field)\n",
    "    c=len(field[0])\n",
    "    \n",
    "    possible_fields=[]\n",
    "    temp=[0]*(c+1)\n",
    "    for n in range(r+1):\n",
    "        possible_fields.append(temp[:])\n",
    "    \n",
    "    for n1 in range(r+1):\n",
    "        possible_fields[n1][c]=0\n",
    "\n",
    "    for n2 in range(c+1):\n",
    "        possible_fields[r][n2]=0\n",
    "    \n",
    "    possible_fields[r-1][c-1]=1\n",
    "\n",
    "\n",
    "    for k in range(1,r+c-1):\n",
    "        for row in range(r-1,r-k-2,-1):\n",
    "            if row>=0:\n",
    "                column=c+r-2-k-row\n",
    "\n",
    "                if column>=0:\n",
    "                    \n",
    "                    if (field[row][column])==0:\n",
    "                        possible_fields[row][column]=possible_fields[row+1][column]+possible_fields[row][column+1]\n",
    "                    else:\n",
    "                        possible_fields[row][column]=0\n",
    "         \n",
    "    print_rectangular(possible_fields)\n",
    "    print(\"=\"*120)\n",
    "    return(possible_fields[0][0])\n",
    "\n",
    "answer=all_fields(field)\n",
    "print(answer) "
   ]
  },
  {
   "cell_type": "markdown",
   "id": "fec83414",
   "metadata": {},
   "source": [
    "**<u>Question 2</u>  \n",
    "Optimal Overlap Alignment of DNA Strings**\n",
    "\n",
    "**Objective:**  \n",
    "\n",
    "    Given two DNA sequences, we want to find an optimal overlap alignment. In this type of alignment, we align a suffix of the first sequence with a prefix of the second sequence to maximize the alignment score. The overlap alignment should account for:\n",
    "    ➔ Matching symbols (+1 score)\n",
    "    ➔ Substitutions (-2 score)\n",
    "    ➔ Linear gap penalties (2 points per gap)\n",
    "    \n",
    "    \n",
    "**Input Format:**   \n",
    "\n",
    "    You are given two DNA sequences, s, and t, in FASTA format. Each string has a length of at most 10,000 base pairs.\n",
    "\n",
    "**Task:**\n",
    "\n",
    "    1. Find the score of the optimal overlap alignment and the alignment itself. Specifically:\n",
    "    2. Align a suffix of string s with a prefix of string t to maximize the alignment score.\n",
    "    3. The alignment score is calculated based on the following scoring scheme:\n",
    "        ● +1 for matching characters.\n",
    "        ● -2 for mismatches (substitutions).\n",
    "        ● -2 for gaps (insertions or deletions).\n",
    "    4. If multiple alignments yield the same optimal score, return any one of them.\n",
    "    \n",
    "    \n",
    "**Output Format:**\n",
    "\n",
    "    1. First, output the optimal alignment score.\n",
    "    2. Then, output the aligned suffix of s and the aligned prefix of t to achieve this score.\n",
    "    \n",
    "---\n",
    "\n",
    "**Sample**\n",
    "\n",
    "Input:\n",
    "\n",
    "\\>sequence1  \n",
    "CTAAGGGATTCCGGTAATTAGACAG  \n",
    "\\>sequence2  \n",
    "ATAGACCATATGTCAGTGACTGTGTAA  \n",
    "\n",
    "Output:\n",
    "\n",
    "1  \n",
    "\n",
    "ATTAGAC-AG  \n",
    "AT-AGACCAT  "
   ]
  },
  {
   "cell_type": "code",
   "execution_count": 4,
   "id": "9004c689",
   "metadata": {},
   "outputs": [
    {
     "name": "stdout",
     "output_type": "stream",
     "text": [
      "sequence1 : AGCCCTCCAGGACAGGCTGCATCAGAAGAGGCCATCAAGCAGGTCTGTTCCAAGGGCCTTTGCGTCAGGTGGGCTCAGGATTCCAGGGTGGCTGGACCCCAGGCCCCAGCTCTGCAGCAGGGAGGACGTGGCTGGGCTCGTGAAGCATGTGGGGGTGAGCCCAGGGGCCCCAAGGCAGGGCACCTGGCCTTCAGCCTGCCTCAGCCCTGCCTGTCTCCCAGA\n",
      "========================================================================================================================\n",
      "sequence2 : GCCCTCTGGGGACCTGACCCAGCCGCAGCCTTTGTGAACCAACACCTGTGCGGCTCACACCTGGTGGAAGCTCTCTACCTAGTGTGCGGGGAACGAGGCTTCTTCTACACACCCAAGACCCGCCGGGAGGCAGAGGACCTGCAGGGTGAGCCAACTGCCCATTGCTGCCCCTGGCCGCCCCCAGCCACCCCCTGCTCCTGGCGCTCCCACTCACTGTCCTTCTGCCATGGCCCTGTGGATGCGCCTCCTGCCCCTGCTGGCGCTGCTG\n",
      "========================================================================================================================\n",
      "sequence3 : CCAGCATGGGCAGAAGGGGGCAGGAGGCTGCCACCCAGCAGGGGGTCAGGTGCACTTTTTTAAAAAGAAGTTCTCTTGGTCACGTCCTAAAAGTGACCAGCTCCCTGTGGCCCAGTCAGAATCTCAGCCTGAGGACGGTGTTGGCTTCGGCAGCCCCGAGATACATCAGAGGGTGGGCACGCTCCTCCCTCCACTCGCCCCTCAAACAAATGCCCCGCAGCCCATTTCTCCACCCTCATTTGATGACCGCAGATTCAAGTGTTTTGTTAAGTAAAGTCCTGGGTGACCTG\n",
      "========================================================================================================================\n",
      "sequence4 : GGGCGTGGCTGCCTGCCTGAGTGGGCCAGACCCCTGTCGCCAGGCCTCACGGCAGCTCCATAGTCAGGAGATGGGGAAGATGCTGGGGACAGGCCCTGGGGAGAAGTACTGGGATCACCTGTTCAGGCTCCCACTGTGACGCTGCCCCGGGGCTGTAGGTCCACACCCAGTGTGGGCCTCTGGGCGAACACCCCATCACGCCCGGAGGACGTGACCCTCCCTCTAACCTGGGTCCAGCCCGGCTGGAGATGGGTGGGAGTGCGACCTAGGGCTGGCGGGCGGGTCACAGGGTGCCCCACGCTGCCT\n",
      "========================================================================================================================\n",
      "sequence5 : CCTTGGCCCTGGAGGGGTCCCTGCAGAAGCGTGGCATTGTGGAACAATGCTGTACCAGCATCTGCTCCCTCTACCAGCTGGAGAACTACTGCAACTAGACGCAGCCCGCAGGCAGCCCCACACCCGCCGCCTCCTGCACCGAGAGAGATGGAATAAAGCCCTTGAACCAGC\n",
      "========================================================================================================================\n",
      "sequence6 : AGGCGGGCACTGTGTCTCCCTGACTGTGTCCTCCTGTGTCCCTCTGCCTCGCCGCTGTTCCGGAACCTGCTCTGCGCGGCACGTCCTGGCAGTGGGGCAGGTGGAGCTGGGCGGGGGCCCTGGTGCAGGCAGCCTGCAGCGGGGGAAGGAGGTGGGACATGTGGGCGTTGGGGCC\n",
      "========================================================================================================================\n"
     ]
    }
   ],
   "source": [
    "import pprint\n",
    "#Relative pathing has been used to access the FASTA file, as such both the FASTA File and the program file must be in the same directory.\n",
    "with open(r\"FASTA File.txt\",'r') as f:\n",
    "    seq=\"\"\n",
    "    count_sequence=\"\"\n",
    "    data={}\n",
    "    \n",
    "    #Read all the lines of a file and store it in a list \"t\" add a newline at the end to ensure all the sequences are read\n",
    "    t=f.readlines()\n",
    "    t+=[\"\\n\"]\n",
    "    \n",
    "    for n in range(len(t)):\n",
    "        if t[n][0]==\">\":\n",
    "            count_sequence+=(t[n][1:].rstrip(\"\\n\"))\n",
    "            start=n+1\n",
    "            \n",
    "            while t[start]!=\"\\n\":\n",
    "                seq+=t[start].rstrip(\"\\n\")\n",
    "                start+=1\n",
    "            \n",
    "            data[count_sequence]=seq\n",
    "            count_sequence=\"\"\n",
    "            seq=\"\"\n",
    "\n",
    "print(\"sequence1 :\",data[\"sequence1\"])\n",
    "print(\"=\"*120)\n",
    "print(\"sequence2 :\",data[\"sequence2\"])\n",
    "print(\"=\"*120)\n",
    "print(\"sequence3 :\",data[\"sequence3\"])\n",
    "print(\"=\"*120)\n",
    "print(\"sequence4 :\",data[\"sequence4\"])\n",
    "print(\"=\"*120)\n",
    "print(\"sequence5 :\",data[\"sequence5\"])\n",
    "print(\"=\"*120)\n",
    "print(\"sequence6 :\",data[\"sequence6\"])\n",
    "print(\"=\"*120)\n",
    "\n",
    "#Use the above sequences as test cases if need arises."
   ]
  },
  {
   "cell_type": "code",
   "execution_count": 5,
   "id": "898d926d",
   "metadata": {},
   "outputs": [],
   "source": [
    "def print_rectangular(lst):\n",
    "    for row in lst:\n",
    "        print(\" \".join(f\"{str(item):>3}\" for item in row))"
   ]
  },
  {
   "cell_type": "code",
   "execution_count": 6,
   "id": "f230161e",
   "metadata": {},
   "outputs": [],
   "source": [
    "def max_score(suffix,prefix):#s=suffix, t=prefix\n",
    "\n",
    "    #max score is initialized to -infinity to avoid errors with max negative scores (although it can also be initialised to -2, since that is lowest max_score possible)\n",
    "    \n",
    "    n, m = len(prefix), len(suffix)\n",
    "    dp=[]\n",
    "    \n",
    "    #This creates a row, with the length of the suffix\n",
    "    temp=[0] * (m + 1)\n",
    "    \n",
    "    #This creates the table, the suffix lies on the x-axis, the prefix lies along the y-axis\n",
    "    for k in range(n+1):\n",
    "        dp.append(temp[:])\n",
    "    \n",
    "    #stores the positions of the maximum score\n",
    "    max_coord=tuple([])\n",
    "    max_score = -float('inf')\n",
    "    \n",
    "    # Initialize DP table\n",
    "    \n",
    "    #i denotes the row number, i.e it is the 1 based index of the prefix string\n",
    "    #j denotes the column number, i.e it is the 1 based index of the suffix string\n",
    "    for i in range(1, n + 1):\n",
    "        dp[i][0] = -2 * i\n",
    "    for j in range(1, m + 1):\n",
    "        dp[0][j] = 0  \n",
    "    \n",
    "    #i denotes the row number, i.e it is the 1 based index of the prefix string\n",
    "    #j denotes the column number, i.e it is the 1 based index of the suffix string\n",
    "    \n",
    "    for i in range(1, n + 1):\n",
    "        for j in range(1, m + 1):\n",
    "            \n",
    "            if prefix[i - 1] == suffix[j - 1]:\n",
    "                match_mismatch=1\n",
    "            else:\n",
    "                match_mismatch=-2\n",
    "                \n",
    "            dp[i][j] = max(dp[i - 1][j - 1] + match_mismatch, \n",
    "                           dp[i - 1][j] - 2, \n",
    "                           dp[i][j - 1] - 2)\n",
    "            \n",
    "            if j == m:\n",
    "                \n",
    "                if dp[i][m] > max_score:\n",
    "                    max_score = dp[i][j]\n",
    "                    max_coords=(i,j)\n",
    "                    \n",
    "                elif dp[i][m] == max_score:\n",
    "                    max_coords=(i,j)\n",
    "                    \n",
    "    #Backtracking (given a terminus how do you get back to the end is the question posed here)\n",
    "    \n",
    "    p=max_coords[0] #position in the suffix string\n",
    "    s=max_coords[1] #position in the prefix string\n",
    "        \n",
    "    pre=\"\"\n",
    "    suff=\"\"\n",
    "        \n",
    "    while s>0 and p>0:\n",
    "            \n",
    "        if dp[p-1][s-1]>dp[p][s-1] and dp[p-1][s-1]>dp[p-1][s]:\n",
    "            pre+=prefix[p-1]\n",
    "            suff+=suffix[s-1]\n",
    "            p=p-1\n",
    "            s=s-1\n",
    "            \n",
    "        elif dp[p-1][s-1]==dp[p][s-1] or dp[p-1][s-1]==dp[p-1][s]:\n",
    "            pre+=prefix[p-1]\n",
    "            suff+=suffix[s-1]\n",
    "            p=p-1\n",
    "            s=s-1\n",
    "                \n",
    "        elif dp[p-1][s]>=dp[p][s-1] :\n",
    "            pre+=prefix[p-1]\n",
    "            suff+=\"-\"\n",
    "            p=p-1\n",
    "            \n",
    "        else:\n",
    "            pre+=\"-\"\n",
    "            suff+=suffix[s-1]\n",
    "            s=s-1\n",
    "            \n",
    "    while s==0 and p>0:\n",
    "            suff+=\"-\"\n",
    "            pre+=prefix[p-1]\n",
    "            p-=1\n",
    "                \n",
    "    t1=(pre[-1::-1])\n",
    "    t2=(suff[-1::-1])\n",
    "    \n",
    "    print(\"The suffix sequence is :\",suffix)\n",
    "    print(\"=\"*100)\n",
    "    print(\"The prefix sequence is :\",prefix)\n",
    "    print(\"=\"*100)\n",
    "    \n",
    "    print(\"The max score is : \",max_score)\n",
    "    print(\"=\"*100)\n",
    "    \n",
    "    print(\"From the suffix :\",t2)\n",
    "    print(\"From the prefix :\",t1)\n",
    "    print(\"=\"*100)\n",
    "    \n",
    "    return([max_score,t2,t1])"
   ]
  },
  {
   "cell_type": "code",
   "execution_count": 7,
   "id": "8cf1a0d5",
   "metadata": {},
   "outputs": [
    {
     "name": "stdout",
     "output_type": "stream",
     "text": [
      "The suffix sequence is : CTAAGGGATTCCGGTAATTAGACAG\n",
      "====================================================================================================\n",
      "The prefix sequence is : ATAGACCATATGTCAGTGACTGTGTAA\n",
      "====================================================================================================\n",
      "The max score is :  1\n",
      "====================================================================================================\n",
      "From the suffix : ATTAGAC-AG\n",
      "From the prefix : AT-AGACCAT\n",
      "====================================================================================================\n"
     ]
    },
    {
     "data": {
      "text/plain": [
       "[1, 'ATTAGAC-AG', 'AT-AGACCAT']"
      ]
     },
     "execution_count": 7,
     "metadata": {},
     "output_type": "execute_result"
    }
   ],
   "source": [
    "#Test Case 1 \n",
    "seq1=\"CTAAGGGATTCCGGTAATTAGACAG\"\n",
    "seq2=\"ATAGACCATATGTCAGTGACTGTGTAA\"\n",
    "\n",
    "max_score(seq1,seq2)"
   ]
  },
  {
   "cell_type": "code",
   "execution_count": 8,
   "id": "8068a905",
   "metadata": {},
   "outputs": [
    {
     "name": "stdout",
     "output_type": "stream",
     "text": [
      "The suffix sequence is : TAGCATGGC\n",
      "====================================================================================================\n",
      "The prefix sequence is : AGCATATGCTACT\n",
      "====================================================================================================\n",
      "The max score is :  3\n",
      "====================================================================================================\n",
      "From the suffix : AGCAT-GGC\n",
      "From the prefix : AGCATATGC\n",
      "====================================================================================================\n"
     ]
    },
    {
     "data": {
      "text/plain": [
       "[3, 'AGCAT-GGC', 'AGCATATGC']"
      ]
     },
     "execution_count": 8,
     "metadata": {},
     "output_type": "execute_result"
    }
   ],
   "source": [
    "#Test Case 2\n",
    "seq1=\"TAGCATGGC\"\n",
    "seq2=\"AGCATATGCTACT\"\n",
    "\n",
    "max_score(seq1,seq2)"
   ]
  },
  {
   "cell_type": "code",
   "execution_count": 9,
   "id": "dcb9b6a6",
   "metadata": {},
   "outputs": [
    {
     "name": "stdout",
     "output_type": "stream",
     "text": [
      "The suffix sequence is : TTCGAC\n",
      "====================================================================================================\n",
      "The prefix sequence is : ATCGAC\n",
      "====================================================================================================\n",
      "The max score is :  3\n",
      "====================================================================================================\n",
      "From the suffix : TTCGAC\n",
      "From the prefix : ATCGAC\n",
      "====================================================================================================\n"
     ]
    },
    {
     "data": {
      "text/plain": [
       "[3, 'TTCGAC', 'ATCGAC']"
      ]
     },
     "execution_count": 9,
     "metadata": {},
     "output_type": "execute_result"
    }
   ],
   "source": [
    "seq1=\"TTCGAC\"\n",
    "seq2=\"ATCGAC\"\n",
    "\n",
    "max_score(seq1,seq2)"
   ]
  },
  {
   "cell_type": "code",
   "execution_count": 10,
   "id": "6f10e52c",
   "metadata": {},
   "outputs": [
    {
     "name": "stdout",
     "output_type": "stream",
     "text": [
      "The suffix sequence is : AGCCCTCCAGGACAGGCTGCATCAGAAGAGGCCATCAAGCAGGTCTGTTCCAAGGGCCTTTGCGTCAGGTGGGCTCAGGATTCCAGGGTGGCTGGACCCCAGGCCCCAGCTCTGCAGCAGGGAGGACGTGGCTGGGCTCGTGAAGCATGTGGGGGTGAGCCCAGGGGCCCCAAGGCAGGGCACCTGGCCTTCAGCCTGCCTCAGCCCTGCCTGTCTCCCAGA\n",
      "====================================================================================================\n",
      "The prefix sequence is : AGGCGGGCACTGTGTCTCCCTGACTGTGTCCTCCTGTGTCCCTCTGCCTCGCCGCTGTTCCGGAACCTGCTCTGCGCGGCACGTCCTGGCAGTGGGGCAGGTGGAGCTGGGCGGGGGCCCTGGTGCAGGCAGCCTGCAGCGGGGGAAGGAGGTGGGACATGTGGGCGTTGGGGCC\n",
      "====================================================================================================\n",
      "The max score is :  3\n",
      "====================================================================================================\n",
      "From the suffix : AGGCAGGGCACCT-GG-CCTTCAGCCTG-CCTCAG-CCCTGCCTGTCTCCCAGA\n",
      "From the prefix : AGGC-GGGCAC-TGTGTC-T-C--CCTGAC-TGTGTCC-T-CCTGTGTCCCTCT\n",
      "====================================================================================================\n"
     ]
    },
    {
     "data": {
      "text/plain": [
       "[3,\n",
       " 'AGGCAGGGCACCT-GG-CCTTCAGCCTG-CCTCAG-CCCTGCCTGTCTCCCAGA',\n",
       " 'AGGC-GGGCAC-TGTGTC-T-C--CCTGAC-TGTGTCC-T-CCTGTGTCCCTCT']"
      ]
     },
     "execution_count": 10,
     "metadata": {},
     "output_type": "execute_result"
    }
   ],
   "source": [
    "suffix=data[\"sequence1\"]\n",
    "prefix=data[\"sequence6\"]\n",
    "\n",
    "max_score(suffix,prefix)"
   ]
  },
  {
   "cell_type": "code",
   "execution_count": 11,
   "id": "4241a324",
   "metadata": {},
   "outputs": [
    {
     "name": "stdout",
     "output_type": "stream",
     "text": [
      "The suffix sequence is : GCCCTCTGGGGACCTGACCCAGCCGCAGCCTTTGTGAACCAACACCTGTGCGGCTCACACCTGGTGGAAGCTCTCTACCTAGTGTGCGGGGAACGAGGCTTCTTCTACACACCCAAGACCCGCCGGGAGGCAGAGGACCTGCAGGGTGAGCCAACTGCCCATTGCTGCCCCTGGCCGCCCCCAGCCACCCCCTGCTCCTGGCGCTCCCACTCACTGTCCTTCTGCCATGGCCCTGTGGATGCGCCTCCTGCCCCTGCTGGCGCTGCTG\n",
      "====================================================================================================\n",
      "The prefix sequence is : CCTTGGCCCTGGAGGGGTCCCTGCAGAAGCGTGGCATTGTGGAACAATGCTGTACCAGCATCTGCTCCCTCTACCAGCTGGAGAACTACTGCAACTAGACGCAGCCCGCAGGCAGCCCCACACCCGCCGCCTCCTGCACCGAGAGAGATGGAATAAAGCCCTTGAACCAGC\n",
      "====================================================================================================\n",
      "The max score is :  1\n",
      "====================================================================================================\n",
      "From the suffix : CCTGCTGGCGC-TGCTG\n",
      "From the prefix : CCT--TGGC-CCTGGAG\n",
      "====================================================================================================\n"
     ]
    },
    {
     "data": {
      "text/plain": [
       "[1, 'CCTGCTGGCGC-TGCTG', 'CCT--TGGC-CCTGGAG']"
      ]
     },
     "execution_count": 11,
     "metadata": {},
     "output_type": "execute_result"
    }
   ],
   "source": [
    "suffix=data[\"sequence2\"]\n",
    "prefix=data[\"sequence5\"]\n",
    "\n",
    "max_score(suffix,prefix)"
   ]
  },
  {
   "cell_type": "markdown",
   "id": "efad7a8a",
   "metadata": {},
   "source": [
    "**<u>Question 3</u>  \n",
    "Longest Increasing and Decreasing Subsequences in Gene Expression Levels**\n",
    "\n",
    "In gene expression studies, researchers must activate certain genes during an experiment for specific time intervals.\n",
    "\n",
    "Each gene activation represents a critical experiment interval where the gene is expressed. However, due to resource limitations (e.g., using a specific tool to express genes), only one gene can be activated at a time.\n",
    "\n",
    "Given a list of gene expression levels (or any ordered biological data, such as protein activity levels, nucleotide frequencies, etc.), we aim to find:  \n",
    "\n",
    "    1. The longest subsequence where gene expression levels are increasing.\n",
    "    2. The longest subsequence where gene expression levels are decreasing.  \n",
    "   \n",
    "**Definitions:**\n",
    "\n",
    "    1. A subsequence is a selection of gene expression levels from the data, taken in the same order\n",
    "    they appear, but not necessarily consecutive.\n",
    "    2. A subsequence increases if each gene expression level exceeds the previous one.\n",
    "    3. A subsequence decreases if each gene expression level is less than the previous one.\n",
    "    \n",
    "**Input:**\n",
    "\n",
    "    A positive integer n (where n ≤ 10,000), represents the number of observed gene expression levels.\n",
    "    A sequence of gene expression levels π of length n, which is a permutation of integers from 1 to n\n",
    "    (representing relative levels of expression)\n",
    "\n",
    "**Task:**\n",
    "\n",
    "    You need to return:\n",
    "    1. The longest increasing subsequence of gene expression levels.\n",
    "    2. The longest decreasing subsequence of gene expression levels.\n",
    "    3. If multiple subsequences of the same maximum length exist, return any one.\n",
    "\n",
    "**Output Format:**\n",
    "\n",
    "    First, output the longest increasing subsequence of the gene expression levels.   \n",
    "    Then, output the longest decreasing subsequence of the gene expression levels.   \n",
    "\n",
    "---\n",
    "Sample Input :  \n",
    "5  \n",
    "5 1 4 2 3  \n",
    "Sample Output:  \n",
    "1 2 3  \n",
    "5 4 2  "
   ]
  },
  {
   "cell_type": "code",
   "execution_count": 12,
   "id": "13ea8eea",
   "metadata": {},
   "outputs": [],
   "source": [
    "def cleanprint(l):\n",
    "    for i in l:\n",
    "        print(i)\n",
    "        print(\"=\"*100)"
   ]
  },
  {
   "cell_type": "code",
   "execution_count": 13,
   "id": "2d4bc62f",
   "metadata": {},
   "outputs": [],
   "source": [
    "#longest_inde_ss is a function that returns the longest increasing and decreasing subsequence in a given list of gene expression levels\n",
    "#The input the data is the length of data , and a list of the gene expression levels.\n",
    "def longest_inde_ss(n,l):\n",
    "    \n",
    "    #Dictionary, which is used as the table to record the longest IS and DS respectively\n",
    "    inc_sub={}\n",
    "    dec_sub={}\n",
    "    \n",
    "    \n",
    "    #sub is the dictionary, which has key as starting index, value as the len of IS and the IS itself\n",
    "    inc_sub[n-1]=(1,[l[n-1]])\n",
    "    dec_sub[n-1]=(1,[l[n-1]])\n",
    "    \n",
    "    #The index where the longest IS and longest DS begin respectively\n",
    "    max_inc_ind=n-1\n",
    "    max_dec_ind=n-1\n",
    "    \n",
    "    for x in range(n-2,-1,-1):\n",
    "        \n",
    "        max_inc_lis,max_dec_lis,y=1,1,x+1\n",
    "        \n",
    "        inc_ss=[l[x]]\n",
    "        dec_ss=[l[x]]\n",
    "        \n",
    "        while y<n:\n",
    "            #Updating the increasing subsequence at position x\n",
    "            if l[x]<l[y] and max_inc_lis<1+inc_sub[y][0]:\n",
    "                max_inc_lis=1+inc_sub[y][0]\n",
    "                inc_ss=[l[x]]+inc_sub[y][1]\n",
    "            \n",
    "            #Updating the decreasing subsequence at position x\n",
    "            if l[x]>l[y] and max_dec_lis<1+dec_sub[y][0]:\n",
    "                max_dec_lis=1+dec_sub[y][0]\n",
    "                dec_ss=[l[x]]+dec_sub[y][1]\n",
    "                \n",
    "            y+=1\n",
    "        \n",
    "        inc_sub[x]=(max_inc_lis,inc_ss)\n",
    "        dec_sub[x]=(max_dec_lis,dec_ss)\n",
    "        \n",
    "        \n",
    "        #Updating the starting index of the longest subsequence (Increasing and Decreasing) respectively\n",
    "        if max_inc_lis>inc_sub[max_inc_ind][0]:\n",
    "            max_inc_ind=x\n",
    "            \n",
    "        if max_dec_lis>dec_sub[max_dec_ind][0]:\n",
    "            max_dec_ind=x\n",
    "    \n",
    "    #Output    \n",
    "    op=[inc_sub[max_inc_ind][1],dec_sub[max_dec_ind][1]]\n",
    "    return(op)"
   ]
  },
  {
   "cell_type": "code",
   "execution_count": 14,
   "id": "63c539fe",
   "metadata": {},
   "outputs": [
    {
     "name": "stdout",
     "output_type": "stream",
     "text": [
      "The sample data is : [11, 46, 29, 38, 48, 14, 1, 32, 10, 10, 46, 38, 31, 14, 21, 48, 43, 13, 15, 44, 17, 42, 12, 32, 28]\n",
      "====================================================================================================\n",
      "[1, 10, 14, 21, 43, 44]\n",
      "====================================================================================================\n",
      "[48, 46, 38, 31, 14, 13, 12]\n",
      "====================================================================================================\n"
     ]
    }
   ],
   "source": [
    "import random\n",
    "\n",
    "test=[]\n",
    "n=25\n",
    "\n",
    "for i in range(n):\n",
    "    test.append(random.randint(1,50))\n",
    "\n",
    "print(\"The sample data is :\" , test)\n",
    "print(\"=\"*100)\n",
    "\n",
    "op=longest_inde_ss(n,test)\n",
    "cleanprint(op)"
   ]
  },
  {
   "cell_type": "markdown",
   "id": "74525bf8",
   "metadata": {},
   "source": [
    "The first list denotes the longest increasing subsequence.     \n",
    "The second list denotes the longest decreasing subsequence."
   ]
  },
  {
   "cell_type": "markdown",
   "id": "9a0c4248",
   "metadata": {},
   "source": [
    "**<u>Question 4</u>  \n",
    "The Wizard's Scroll and the Longest Palindrome**\n",
    "    \n",
    "In the mystical kingdom of Palindora, the royal wizards need your help to unlock a secret message hidden in an ancient scroll. The scroll contains a sequence of characters, and the message can only be revealed if the text forms a palindrome (Assume the length of text is N and its given).\n",
    "\n",
    "The wizards are willing to perform up to k magical substitutions, allowing them to change any character in the scroll to any other character to help form a palindrome.\n",
    "\n",
    "Your task is to determine the length of the longest palindromic substring that can be obtained from the scroll after performing up to k substitutions.\n",
    "\n",
    "Help the wizards reveal the longest palindromic message hidden in the scroll."
   ]
  },
  {
   "cell_type": "code",
   "execution_count": 15,
   "id": "186447ee",
   "metadata": {},
   "outputs": [],
   "source": [
    "#scroll is a string and k is the number of replacements we are allowed to make.\n",
    "import pprint\n",
    "\n",
    "def secret(scroll,k):\n",
    "    \n",
    "    scroll=scroll.upper()\n",
    "    \n",
    "    mod_scroll=\"#\"\n",
    "    \n",
    "    for s in scroll:\n",
    "        mod_scroll+=(s+\"#\")\n",
    "        \n",
    "    #print(mod_scroll)\n",
    "    #print(\"=\"*100)\n",
    "    \n",
    "    #index,length of palindrome with that center in modified scroll\n",
    "    longest_palindromes=[(0,1)]\n",
    "    \n",
    "    #Stores the maximum uni-directional length of palindromes in mod_scroll, with the index as center of the palindrome\n",
    "    #The reason to use uni-directional length is because the length of the palindrome in scroll would then just be current value -1\n",
    "    p_data=[1]\n",
    "    \n",
    "    for n in range(1,len(mod_scroll)-1):\n",
    "        lp=n-1\n",
    "        rp=n+1\n",
    "        counter=0\n",
    "        plen=1\n",
    "        \n",
    "        while (lp>-1) and (rp<len(mod_scroll)) and (counter<=k):\n",
    "            \n",
    "            if mod_scroll[lp]==mod_scroll[rp]:\n",
    "                plen+=1\n",
    "                lp-=1\n",
    "                rp+=1\n",
    "            \n",
    "            else:\n",
    "                \n",
    "                if counter<k:\n",
    "                    plen+=1\n",
    "                    lp-=1\n",
    "                    rp+=1\n",
    "                    counter+=1\n",
    "                    \n",
    "                else:\n",
    "                    counter+=1\n",
    "        \n",
    "        p_data.append(plen)\n",
    "        \n",
    "        if plen>longest_palindromes[0][1]:\n",
    "            longest_palindromes=[(n,plen)]\n",
    "            \n",
    "        elif plen==longest_palindromes[0][1]:  \n",
    "            longest_palindromes.append((n,plen))    \n",
    "            \n",
    "    #A palindrome centered at the last element can only include itself\n",
    "    p_data.append(1)\n",
    "    \n",
    "    return(longest_palindromes[0][1]-1)"
   ]
  },
  {
   "cell_type": "code",
   "execution_count": 16,
   "id": "4be6276e",
   "metadata": {},
   "outputs": [
    {
     "name": "stdout",
     "output_type": "stream",
     "text": [
      "scroll contains : xsabcabcabcgta\n",
      "The length of the longest palindromic substring is : 9\n"
     ]
    }
   ],
   "source": [
    "test1=\"xsabcabcabcgta\"\n",
    "x=secret(test1,3)\n",
    "print(\"scroll contains :\",test1)\n",
    "print(\"The length of the longest palindromic substring is :\",x)"
   ]
  },
  {
   "cell_type": "code",
   "execution_count": 17,
   "id": "e612386a",
   "metadata": {},
   "outputs": [
    {
     "name": "stdout",
     "output_type": "stream",
     "text": [
      "scroll contains : Level is a device used to find plane surfaces. Levels are commonly used by engineers for determining flat surfaces.\n",
      "The length of the longest palindromic substring is : 52\n"
     ]
    }
   ],
   "source": [
    "test2=\"Level is a device used to find plane surfaces. Levels are commonly used by engineers for determining flat surfaces.\"\n",
    "x=secret(test2,18)\n",
    "print(\"scroll contains :\",test2)\n",
    "print(\"The length of the longest palindromic substring is :\",x)"
   ]
  },
  {
   "cell_type": "markdown",
   "id": "c83bd725",
   "metadata": {},
   "source": [
    "**<u>Question 5</u>  \n",
    "Problem: DNA Sequence Matching Using KMP Algorithm**\n",
    "        \n",
    "In molecular biology, DNA sequences are often represented as strings consisting of four nucleotides:A (adenine), C (cytosine), G (guanine), and T (thymine). \n",
    "\n",
    "Scientists frequently need to search for aspecific gene or motif within a longer DNA sequence. Given a reference DNA sequence and a targetgene sequence, you are tasked with identifying whether the target gene appears in the reference sequence using the KMP algorithm for efficient string matching.\n",
    "\n",
    "\n",
    "**Input:**\n",
    "\n",
    "    ● A reference DNA sequence S of length n (e.g., a long strand of DNA).\n",
    "    ● A target gene sequence T of length m (e.g., a shorter subsequence that may represent a gene).\n",
    "\n",
    "**Output:**\n",
    "\n",
    "    Return the starting index (0-based) of all occurrences of the target gene T in the reference sequence S.\n",
    "    If the target gene does not exist in the reference, return an empty list"
   ]
  },
  {
   "cell_type": "code",
   "execution_count": 18,
   "id": "524583c9",
   "metadata": {},
   "outputs": [],
   "source": [
    "#Computing the Fail Table (FT)\n",
    "def FT(gene):\n",
    "    \n",
    "\n",
    "    m = len(gene)\n",
    "    fail_table = [0 for i in range(m)]\n",
    "    \n",
    "    #Setting up the values in the fail_table\n",
    "    j,k = 1,0\n",
    "    while j < m:\n",
    "        if gene[j] == gene[k]:\n",
    "            fail_table[j] = k+1\n",
    "            j,k = j+1,k+1\n",
    "            \n",
    "        elif k > 0:\n",
    "            k = fail_table[k-1]\n",
    "            \n",
    "        else:\n",
    "            j = j+1\n",
    "        \n",
    "    return(fail_table)"
   ]
  },
  {
   "cell_type": "code",
   "execution_count": 19,
   "id": "243be848",
   "metadata": {},
   "outputs": [],
   "source": [
    "def KMP(genome, gene):\n",
    "    \n",
    "    genome=genome.upper()\n",
    "    gene=gene.upper()\n",
    "    \n",
    "    n,m = len(genome),len(gene)\n",
    "    \n",
    "    #The position_list contains the starting index of gene in the genome\n",
    "    position_list=[]\n",
    "\n",
    "    if m == 0:\n",
    "        return (position_list) #Input gene sequence is an empty string, returns empty list\n",
    "    \n",
    "    fail = FT(gene) #Constructing the fail table\n",
    "    \n",
    "    j = 0 #Iterates through the genome\n",
    "    k = 0 #Iterates through the gene\n",
    "    \n",
    "    while j < n:\n",
    "        if genome[j] == gene[k]: \n",
    "            if k == m - 1: \n",
    "                \n",
    "                position_list.append(j-m+1)\n",
    "                \n",
    "                #Since we already matched up the whole sequence we can use the fail table to continue advancing\n",
    "                if fail[k]>0:\n",
    "                    k=fail[k-1]\n",
    "                #if the fail value is 0, starting from the next string we have start a new match    \n",
    "                else:\n",
    "                    k=-1\n",
    "                    \n",
    "            j,k = j+1,k+1 # extending matching sequence / initializing post full sequence match\n",
    "            \n",
    "        elif k > 0:\n",
    "            k = fail[k-1] # use a smaller prefix from the fail_table\n",
    "            \n",
    "        else:\n",
    "            j = j+1\n",
    "        \n",
    "    return(position_list)"
   ]
  },
  {
   "cell_type": "code",
   "execution_count": 20,
   "id": "694e3b94",
   "metadata": {},
   "outputs": [
    {
     "name": "stdout",
     "output_type": "stream",
     "text": [
      "Genome is : TGCAGTCTGAAAGCCTGCAATCGTACGGCTTAGCTGTACAGCTGAAGCCTGCAAACGTTAGCATGGCCTGCTGATCGGATCGTAGCGAAGCCTGCAAGTACGTGGCTAAAGCTGTCCGTAACGGCTGCAACTGCAGTACCGTGAACGTCGTGGAAGCCTGCAAATCGGCTATGCTTACCGTAGGTTACAGCTGAAGGCTGCACGCTCGTTGAAGCCTGCAAGCATGATCGTTCGAACGGTTAACGTCGATTAGCCTGCTAGTTAAACCGTATCGCGT\n",
      "Gene is : AAGCCTGCAA\n",
      "[10, 44, 87, 153, 211]\n",
      "====================================================================================================\n",
      "Genome is : CTGAAAGCCTGCAACGTATGCGGTTAGACCGTAAAGCCTGCAATCTAGCTTACGCGTTAGGAGGTCGTAAGCCTGCAATCTGTAAGGCTGTTAGCGTATGCGAGTCCGAAAGCCTGCATGGTACGTGTAAGCCTGCAAACGTGCAAGGTTAGGTCGTATGCGTACCTGGAAGCCTGCAAATCGTTAGCTAGCGTACGGTAGACGTAGTAGTCGTTAGGTCGTGCTTAGTCCAGCAGATGAGTGTTTG\n",
      "Gene is : AAGCCTGCAA\n",
      "[4, 33, 68, 128, 169]\n",
      "====================================================================================================\n"
     ]
    }
   ],
   "source": [
    "genome1=\"TGCAGTCTGAAAGCCTGCAATCGTACGGCTTAGCTGTACAGCTGAAGCCTGCAAACGTTAGCATGGCCTGCTGATCGGATCGTAGCGAAGCCTGCAAGTACGTGGCTAAAGCTGTCCGTAACGGCTGCAACTGCAGTACCGTGAACGTCGTGGAAGCCTGCAAATCGGCTATGCTTACCGTAGGTTACAGCTGAAGGCTGCACGCTCGTTGAAGCCTGCAAGCATGATCGTTCGAACGGTTAACGTCGATTAGCCTGCTAGTTAAACCGTATCGCGT\"\n",
    "genome2='CTGAAAGCCTGCAACGTATGCGGTTAGACCGTAAAGCCTGCAATCTAGCTTACGCGTTAGGAGGTCGTAAGCCTGCAATCTGTAAGGCTGTTAGCGTATGCGAGTCCGAAAGCCTGCATGGTACGTGTAAGCCTGCAAACGTGCAAGGTTAGGTCGTATGCGTACCTGGAAGCCTGCAAATCGTTAGCTAGCGTACGGTAGACGTAGTAGTCGTTAGGTCGTGCTTAGTCCAGCAGATGAGTGTTTG'\n",
    "\n",
    "gene=\"AAGCCTGCAA\"\n",
    "\n",
    "print(\"Genome is :\",genome1)\n",
    "print(\"Gene is :\",gene)\n",
    "print(KMP(genome1,gene))\n",
    "print(\"=\"*100)\n",
    "\n",
    "print(\"Genome is :\",genome2)\n",
    "print(\"Gene is :\",gene)\n",
    "print(KMP(genome2,gene))\n",
    "print(\"=\"*100)"
   ]
  },
  {
   "cell_type": "code",
   "execution_count": 21,
   "id": "63d4b7af",
   "metadata": {},
   "outputs": [
    {
     "name": "stdout",
     "output_type": "stream",
     "text": [
      "AAGCCTGCAA\n",
      "AAGCCTGCAA\n",
      "AAGCCTGCAA\n",
      "AAGCCTGCAA\n",
      "AAGCCTGCAA\n"
     ]
    }
   ],
   "source": [
    "print(genome1[10:20],genome1[44:54],genome1[87:97],genome1[153:163],genome1[211:221],sep=\"\\n\")"
   ]
  },
  {
   "cell_type": "code",
   "execution_count": 22,
   "id": "a9dd1858",
   "metadata": {},
   "outputs": [
    {
     "name": "stdout",
     "output_type": "stream",
     "text": [
      "AAGCCTGCAA\n",
      "AAGCCTGCAA\n",
      "AAGCCTGCAA\n",
      "AAGCCTGCAA\n",
      "AAGCCTGCAA\n"
     ]
    }
   ],
   "source": [
    "print(genome2[4:14],genome2[33:43],genome2[68:78],genome2[128:138],genome2[169:179],sep=\"\\n\")"
   ]
  },
  {
   "cell_type": "code",
   "execution_count": 23,
   "id": "49cada93",
   "metadata": {},
   "outputs": [
    {
     "name": "stdout",
     "output_type": "stream",
     "text": [
      "[0, 29, 63, 84]\n",
      "[13, 49, 91, 99]\n"
     ]
    }
   ],
   "source": [
    "genome=\"AACGTTAACCTGTACAGCTGAAGCCTGCAAACGTTAACCTGATAGCTGTACAGCTGAAGCCTAAACGTTAACCTGACGTTAAGCAACGTTAACAGCTGTACAGCTGAAGCCTGCAAAACGTTAAGCACGTTAACGTTAAGCAGCTGCAAACGTTAGCACGTTAGCCTAAC\"\n",
    "gene1=\"AACGTTAAC\"\n",
    "gene2=\"ACAGCT\"\n",
    "print(KMP(genome,gene1))\n",
    "print(KMP(genome,gene2))"
   ]
  },
  {
   "cell_type": "code",
   "execution_count": 24,
   "id": "ace4dae2",
   "metadata": {},
   "outputs": [
    {
     "name": "stdout",
     "output_type": "stream",
     "text": [
      "AACGTTAAC\n",
      "AACGTTAAC\n",
      "AACGTTAAC\n",
      "AACGTTAAC\n"
     ]
    }
   ],
   "source": [
    "print(genome[0:9],genome[29:38],genome[63:72],genome[84:93],sep=\"\\n\")"
   ]
  },
  {
   "cell_type": "code",
   "execution_count": 25,
   "id": "c8e61e9a",
   "metadata": {},
   "outputs": [
    {
     "name": "stdout",
     "output_type": "stream",
     "text": [
      "ACAGCT\n",
      "ACAGCT\n",
      "ACAGCT\n",
      "ACAGCT\n"
     ]
    }
   ],
   "source": [
    "print(genome[13:19],genome[49:55],genome[91:97],genome[99:105],sep=\"\\n\")"
   ]
  },
  {
   "cell_type": "code",
   "execution_count": 26,
   "id": "1a2664f3",
   "metadata": {},
   "outputs": [
    {
     "name": "stdout",
     "output_type": "stream",
     "text": [
      "[3, 8, 27, 32]\n",
      "====================================================================================================\n",
      "Verifying the output above, the gene is : TGAACTGAACTGAAC\n",
      "====================================================================================================\n",
      "TGAACTGAACTGAAC\n",
      "TGAACTGAACTGAAC\n",
      "TGAACTGAACTGAAC\n",
      "TGAACTGAACTGAAC\n"
     ]
    }
   ],
   "source": [
    "#Test case showing recurring substrings in the main string\n",
    "DNA=\"ATGTGAACTGAACTGAACTGAACCCGATGAACTGAACTGAACTGAAC\"\n",
    "print(KMP(DNA,\"TGAACTGAACTGAAC\"))\n",
    "print(\"=\"*100)\n",
    "print(\"Verifying the output above, the gene is : TGAACTGAACTGAAC\")\n",
    "print(\"=\"*100)\n",
    "print(DNA[3:18],DNA[8:23],DNA[27:42],DNA[32:47],sep=\"\\n\")"
   ]
  }
 ],
 "metadata": {
  "kernelspec": {
   "display_name": "Python 3 (ipykernel)",
   "language": "python",
   "name": "python3"
  },
  "language_info": {
   "codemirror_mode": {
    "name": "ipython",
    "version": 3
   },
   "file_extension": ".py",
   "mimetype": "text/x-python",
   "name": "python",
   "nbconvert_exporter": "python",
   "pygments_lexer": "ipython3",
   "version": "3.9.13"
  }
 },
 "nbformat": 4,
 "nbformat_minor": 5
}
